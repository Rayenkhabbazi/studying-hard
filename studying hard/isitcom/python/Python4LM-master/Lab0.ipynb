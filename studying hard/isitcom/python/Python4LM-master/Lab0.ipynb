{
 "cells": [
  {
   "cell_type": "markdown",
   "metadata": {
    "colab_type": "text",
    "id": "view-in-github"
   },
   "source": [
    "<a href=\"https://colab.research.google.com/github/nevermind78/Python4LM/blob/master/Lab0.ipynb\" target=\"_parent\"><img src=\"https://colab.research.google.com/assets/colab-badge.svg\" alt=\"Open In Colab\"/></a>"
   ]
  },
  {
   "cell_type": "code",
   "execution_count": null,
   "metadata": {},
   "outputs": [],
   "source": []
  },
  {
   "cell_type": "markdown",
   "metadata": {
    "id": "HqySwl7nXDjr"
   },
   "source": [
    "# LAB0 Welcome to python <img src=\"https://www.python.org/static/community_logos/python-powered-w-200x80.png\">\n",
    "<img src=\"https://isitcom.rnu.tn/useruploads/images/logo-isitcom.png\" width=\"100\" height=\"100\">\n",
    "\n",
    "## Goals\n",
    "Welcome to your first lab day! Labs in Python For `LM` are designed to be your opportunity to experiment with Python and gain hands-on experience with the language.\n",
    "\n",
    "The primary goal of this lab is to ensure that your Python installation process went smoothly, and that there are no lingering Python 2/3 bugs floating around.\n",
    "\n",
    "This lab also gives you the chance to write what might be your first programs in Python, and allows you to experiment with both scripts and with the interactive interpreter!\n",
    "\n",
    "These problems are not intended to be algorithmically challenging - just ways to flex your new Python 3 muscles. Even if the problems seem simple, work through them quickly, and then you're free to go.\n",
    "\n",
    "As always, have fun, and enjoy the (remainder of the) class period!\n",
    "\n",
    "\n"
   ]
  },
  {
   "cell_type": "markdown",
   "metadata": {
    "id": "eQbMqpiuXDj6"
   },
   "source": [
    "## Warming Up\n",
    "\n",
    "### Hello World\n",
    "\n",
    "If you haven’t already, write a Hello World program which consists of getting Python to print `\"Hello, World!\"` to the console. First, write this program using the interactive interpreter. Next, put the body of the program into a file named `hello.py`, and run the Hello World program as a Python script."
   ]
  },
  {
   "cell_type": "code",
   "execution_count": 1,
   "metadata": {
    "id": "ey-_9RNFXDj7"
   },
   "outputs": [
    {
     "name": "stdout",
     "output_type": "stream",
     "text": [
      "hello world\n"
     ]
    }
   ],
   "source": [
    "print(\"hello world\")"
   ]
  },
  {
   "cell_type": "markdown",
   "metadata": {
    "id": "LSUnNiaKXDj8"
   },
   "source": [
    "### Printing\n",
    "\n",
    "Write a program using `print()` that, when run, prints out a tic-tac-toe board.\n",
    "\n",
    "```\n",
    "  |  |\n",
    "--------\n",
    "  |  |\n",
    "--------\n",
    "  |  |  \n",
    "```\n",
    "\n",
    "*Hint: you may find the optional arguments to `print` useful. You can read about them [here](https://docs.python.org/3.4/library/functions.html#print)*"
   ]
  },
  {
   "cell_type": "code",
   "execution_count": null,
   "metadata": {
    "id": "933vlAoUXDj9"
   },
   "outputs": [],
   "source": []
  },
  {
   "cell_type": "markdown",
   "metadata": {
    "id": "bp81c0pkXDj9"
   },
   "source": [
    "### Printing #2 (challenge)\n",
    "\n",
    "Write a program that, when run, prints out a SUPER tic-tac-toe board.\n",
    "\n",
    "```\n",
    "  |  |  H  |  |  H  |  |  \n",
    "--+--+--H--+--+--H--+--+--\n",
    "  |  |  H  |  |  H  |  |  \n",
    "--+--+--H--+--+--H--+--+--\n",
    "  |  |  H  |  |  H  |  |  \n",
    "========+========+========\n",
    "  |  |  H  |  |  H  |  |  \n",
    "--+--+--H--+--+--H--+--+--\n",
    "  |  |  H  |  |  H  |  |  \n",
    "--+--+--H--+--+--H--+--+--\n",
    "  |  |  H  |  |  H  |  |  \n",
    "========+========+========\n",
    "  |  |  H  |  |  H  |  |  \n",
    "--+--+--H--+--+--H--+--+--\n",
    "  |  |  H  |  |  H  |  |  \n",
    "--+--+--H--+--+--H--+--+--\n",
    "  |  |  H  |  |  H  |  |  \n",
    "```\n",
    "\n",
    "You'll find that there may be many ways to solve this problem. Which do you think is the most 'pythonic?' Talk to someone next to you about your approach to this problem. Remember the Zen of Python!"
   ]
  },
  {
   "cell_type": "code",
   "execution_count": null,
   "metadata": {
    "id": "kgLNvbeEXDj-"
   },
   "outputs": [],
   "source": []
  },
  {
   "cell_type": "markdown",
   "metadata": {
    "id": "19pJw7DQXDj_"
   },
   "source": [
    "### Fizz, Buzz, FizzBuzz!\n",
    "If we list all of the natural numbers under 41 that are a multiple of 3 or 5, we get\n",
    "\n",
    "```\n",
    " 3,  5,  6,  9, 10, 12, 15,\n",
    "18, 20, 21, 24, 25, 27, 30,\n",
    "33, 35, 36, 39, 40\n",
    "```\n",
    "\n",
    "The sum of these numbers is 408.\n",
    "\n",
    "Find the sum of all the multiples of 3 or 5 below 1001."
   ]
  },
  {
   "cell_type": "code",
   "execution_count": null,
   "metadata": {
    "id": "IckR_5NbXDkA"
   },
   "outputs": [],
   "source": []
  },
  {
   "cell_type": "markdown",
   "metadata": {
    "id": "QgOC5Z9OXDkA"
   },
   "source": [
    "### Collatz Sequence\n",
    "Depending on who you took CS106A from, you may have seen this problem before.\n",
    "\n",
    "The *Collatz sequence* is an iterative sequence defined on the positive integers by:\n",
    "\n",
    "```\n",
    "n -> n / 2    if n is even\n",
    "n -> 3n + 1   if n is odd\n",
    "```\n",
    "\n",
    "For example, using the rule above and starting with 13 yields the sequence:\n",
    "\n",
    "```\n",
    "13 -> 40 -> 20 -> 10 -> 5 -> 16 -> 8 -> 4 -> 2 -> 1\n",
    "```\n",
    "\n",
    "It can be seen that this sequence (starting at 13 and finishing at 1) contains 10 terms. Although unproven, it it hypothesized that all starting numbers finish at 1.\n",
    "\n",
    "What is the length of the longest chain which has a starting number under 1000?\n",
    "\n",
    ">*NOTE: Once the chain starts the terms are allowed to go above one thousand.*\n",
    "\n",
    "Challenge: Same question, but for any starting number under 1,000,000 (you may need to implement a cleverer-than-naive algorithm)"
   ]
  },
  {
   "cell_type": "code",
   "execution_count": null,
   "metadata": {
    "id": "E6jszFfkXDkB"
   },
   "outputs": [],
   "source": []
  },
  {
   "cell_type": "markdown",
   "metadata": {
    "id": "HD0zUkswXDkB"
   },
   "source": [
    "### Fahrenheit-to-Celsius converter\n",
    "Write a program to convert degrees Fahrenheit to degrees Celcius by (1) asking the user for a number (not necessarily integral) representing the current temperature in degrees Fahrenheit, (2) converting that value into the equivalent degrees Celsius, and (3) printing the final equivalent value.\n",
    "\n",
    "For example, your program should be able to emulate the following sample run:\n",
    "\n",
    "```\n",
    "Temperature F? 212\n",
    "It is 100.0 degrees Celsius.\n",
    "\n",
    "Temperature F? 98.6\n",
    "It is 37.0 degrees Celsius.\n",
    "\n",
    "Temperature F? 10\n",
    "It is -12.222222222222221 degrees Celsius.\n",
    "```\n",
    "\n",
    "Want to be fancy (challenge)? Try to print the final temperature to two decimal places. *Hint: Take a look at the [`round()`](https://docs.python.org/3.4/library/functions.html#round) function. Isn't Python great?*"
   ]
  },
  {
   "cell_type": "code",
   "execution_count": null,
   "metadata": {
    "id": "M0RuuVH7XDkB"
   },
   "outputs": [],
   "source": []
  },
  {
   "cell_type": "markdown",
   "metadata": {
    "id": "p8lMuiwXXDkC"
   },
   "source": [
    "## Done Early?\n",
    "\n",
    "Skim [Python’s Style Guide](https://www.python.org/dev/peps/pep-0008/), keeping the **Zen of Python** in mind. Feel free to skip portions of the style guide that cover material we haven't yet touched on in this class, but it's always good to start with an overview of good style.\n",
    "\n",
    "## Submitting Labs\n",
    "\n",
    "Alright, you did it! There's nothing to submit for this lab. You're free to leave as soon as you've finished this lab."
   ]
  }
 ],
 "metadata": {
  "colab": {
   "include_colab_link": true,
   "provenance": []
  },
  "kernelspec": {
   "display_name": "Python 3",
   "language": "python",
   "name": "python3"
  },
  "language_info": {
   "codemirror_mode": {
    "name": "ipython",
    "version": 3
   },
   "file_extension": ".py",
   "mimetype": "text/x-python",
   "name": "python",
   "nbconvert_exporter": "python",
   "pygments_lexer": "ipython3",
   "version": "3.9.13"
  },
  "vscode": {
   "interpreter": {
    "hash": "dd2f083c7091592f6e910b42e81e3d9326587f6134c1427a9ed8e8691fd16a23"
   }
  }
 },
 "nbformat": 4,
 "nbformat_minor": 1
}
